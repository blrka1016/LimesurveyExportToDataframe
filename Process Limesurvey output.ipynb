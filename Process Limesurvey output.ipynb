{
 "cells": [
  {
   "cell_type": "code",
   "execution_count": 11,
   "metadata": {
    "collapsed": true
   },
   "outputs": [],
   "source": [
    "import csv\n",
    "import re"
   ]
  },
  {
   "cell_type": "code",
   "execution_count": 68,
   "metadata": {
    "collapsed": true
   },
   "outputs": [],
   "source": [
    "#Set paths for different files\n",
    "coreorder1path = \"Collected Fall 2017/results-survey955753_CAL P3 Core Order1 - English - V2.2.csv\"\n",
    "coreorder2path = \"Collected Fall 2017/results-survey727772_CAL P3 Core Order2 - English - V2.2.csv\"\n",
    "coreorder3path = \"Collected Fall 2017/results-survey275281_CAL P3 Core Order3 - English - V2.2.csv\"\n",
    "coreorder4path = \"Collected Fall 2017/results-survey152661_CAL P3 Core Order4 - English - V2.2.csv\"\n",
    "supporder1path = \"Collected Fall 2017/results-survey282158_CAL P3 Order1 SUPP - English - V2.2.csv\"\n",
    "supporder2path = \"Collected Fall 2017/results-survey885882_CAL P3 Order 2 SUPP - English - V2.2.csv\"\n",
    "supporder3path = \"Collected Fall 2017/results-survey175111_CAL P3 Order3 SUPP - English - V2.2.csv\"\n",
    "supporder4path = \"Collected Fall 2017/results-survey411556_CAL P3 Order4 SUPP - English - V2.2.csv\"\n",
    "corefilepaths = [coreorder1path,coreorder2path,coreorder3path,coreorder4path]\n",
    "suppfilepaths = [supporder1path,supporder2path,supporder3path,supporder4path]"
   ]
  },
  {
   "cell_type": "code",
   "execution_count": 69,
   "metadata": {
    "collapsed": false
   },
   "outputs": [],
   "source": [
    "def processCSVFile(filepath):\n",
    "    with open(filepath) as csvfile:\n",
    "        spamreader = csv.reader(csvfile, delimiter=',', quotechar='\"')\n",
    "        # process header rom\n",
    "        header = spamreader.next()\n",
    "        sentences = []\n",
    "        clips = []\n",
    "        answerTypes = []\n",
    "        groups = []\n",
    "        answersets = []\n",
    "        partIds = []\n",
    "        i=8\n",
    "        for q in header[8:-1]:\n",
    "            if \"[\" not in q:\n",
    "                cutoff = i\n",
    "                break\n",
    "            clip = q.split(\"[\")[0]\n",
    "            sentence = q.split(\"[\")[2][:-1]\n",
    "            if \"False\" in q:\n",
    "                answertype = \"Rating\"\n",
    "            else:\n",
    "                answertype = \"Alt\"\n",
    "            if clip[-1] == \"B\":\n",
    "                group = \"B\"\n",
    "            elif clip[0] == \"T\":\n",
    "                group = \"TRAINING\"\n",
    "            else:\n",
    "                group = \"A\"\n",
    "            sentences.append(sentence)\n",
    "            clips.append(clip)\n",
    "            answerTypes.append(answertype)\n",
    "            groups.append(group)\n",
    "            i+=1\n",
    "        #print i\n",
    "        #Extract answers\n",
    "        for row in spamreader:\n",
    "            if len(row)==0:\n",
    "                break\n",
    "            partIds.append(row[7])\n",
    "            answers = row[8:cutoff]\n",
    "            answersets.append(answers)\n",
    "    return sentences,clips,answerTypes,groups,answersets,partIds"
   ]
  },
  {
   "cell_type": "code",
   "execution_count": 70,
   "metadata": {
    "collapsed": false
   },
   "outputs": [],
   "source": [
    "def CreateDataframe(filepathlist,outputfilename):\n",
    "    dataframe = []\n",
    "    dataframe.append((\"PartID\",\"Order\",\"Clip\",\"Group\",\"Sentence\",\"AnswerType\",\"Answer\"))\n",
    "    for i in range (1,5):\n",
    "        filepath = filepathlist[i-1]\n",
    "        order = \"Order\"+str(i)\n",
    "        sentences,clips,answerTypes,groups,answersets,partIds = processCSVFile(filepath)\n",
    "        for i in range (0,len(partIds)):\n",
    "            for j in range (0,len(clips)):\n",
    "                dataframe.append((partIds[i],order,clips[j],groups[j],sentences[j],answerTypes[j],answersets[i][j]))\n",
    "    with open(outputfilename, 'wb') as csvfile:\n",
    "        spamwriter = csv.writer(csvfile, delimiter=',',\n",
    "                            quotechar='\"', quoting=csv.QUOTE_MINIMAL)\n",
    "        spamwriter.writerows(dataframe)\n",
    "                \n",
    "                #print len(sentences)\n",
    "#print len(clips)\n",
    "#print len(answerTypes)\n",
    "#print len(answersets[0])\n",
    "\n",
    "\n",
    "#print dataframe"
   ]
  },
  {
   "cell_type": "code",
   "execution_count": 71,
   "metadata": {
    "collapsed": true
   },
   "outputs": [],
   "source": [
    "#Generate core dataframe\n",
    "CreateDataframe(corefilepaths,\"CoreData.csv\")\n",
    "#Generate supp dataframe\n",
    "CreateDataframe(suppfilepaths,\"SuppData.csv\")\n"
   ]
  },
  {
   "cell_type": "code",
   "execution_count": null,
   "metadata": {
    "collapsed": false
   },
   "outputs": [],
   "source": []
  },
  {
   "cell_type": "code",
   "execution_count": null,
   "metadata": {
    "collapsed": true
   },
   "outputs": [],
   "source": []
  }
 ],
 "metadata": {
  "anaconda-cloud": {},
  "kernelspec": {
   "display_name": "Python [default]",
   "language": "python",
   "name": "python2"
  },
  "language_info": {
   "codemirror_mode": {
    "name": "ipython",
    "version": 2
   },
   "file_extension": ".py",
   "mimetype": "text/x-python",
   "name": "python",
   "nbconvert_exporter": "python",
   "pygments_lexer": "ipython2",
   "version": "2.7.12"
  }
 },
 "nbformat": 4,
 "nbformat_minor": 1
}
